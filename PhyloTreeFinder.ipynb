{
  "nbformat": 4,
  "nbformat_minor": 0,
  "metadata": {
    "colab": {
      "provenance": [],
      "authorship_tag": "ABX9TyM7przDOVFuu2wCoRNkWPLV",
      "include_colab_link": true
    },
    "kernelspec": {
      "name": "python3",
      "display_name": "Python 3"
    },
    "language_info": {
      "name": "python"
    }
  },
  "cells": [
    {
      "cell_type": "markdown",
      "metadata": {
        "id": "view-in-github",
        "colab_type": "text"
      },
      "source": [
        "<a href=\"https://colab.research.google.com/github/axmedddddddd/PhyloTreeFinder/blob/main/PhyloTreeFinder.ipynb\" target=\"_parent\"><img src=\"https://colab.research.google.com/assets/colab-badge.svg\" alt=\"Open In Colab\"/></a>"
      ]
    },
    {
      "cell_type": "markdown",
      "source": [
        "**Installing Dependenices**"
      ],
      "metadata": {
        "id": "_Jd5eD3RaX5i"
      }
    },
    {
      "cell_type": "code",
      "source": [
        "!pip install binarytree\n",
        "!pip install tensorflow\n",
        "!pip install keras\n",
        "!pip install keras-rl2\n",
        "!pip install gym"
      ],
      "metadata": {
        "id": "G7magnOOQTPO",
        "outputId": "b737c1bc-41f6-46d9-b75c-f7fe6faacf62",
        "colab": {
          "base_uri": "https://localhost:8080/"
        }
      },
      "execution_count": null,
      "outputs": [
        {
          "output_type": "stream",
          "name": "stdout",
          "text": [
            "Requirement already satisfied: binarytree in /usr/local/lib/python3.7/dist-packages (6.3.0)\n",
            "Requirement already satisfied: setuptools>=42 in /usr/local/lib/python3.7/dist-packages (from binarytree) (57.4.0)\n",
            "Requirement already satisfied: graphviz in /usr/local/lib/python3.7/dist-packages (from binarytree) (0.10.1)\n",
            "Requirement already satisfied: setuptools-scm[toml]>=3.4 in /usr/local/lib/python3.7/dist-packages (from binarytree) (6.4.2)\n",
            "Requirement already satisfied: packaging>=20.0 in /usr/local/lib/python3.7/dist-packages (from setuptools-scm[toml]>=3.4->binarytree) (21.3)\n",
            "Requirement already satisfied: tomli>=1.0.0 in /usr/local/lib/python3.7/dist-packages (from setuptools-scm[toml]>=3.4->binarytree) (2.0.0)\n",
            "Requirement already satisfied: pyparsing!=3.0.5,>=2.0.2 in /usr/local/lib/python3.7/dist-packages (from packaging>=20.0->setuptools-scm[toml]>=3.4->binarytree) (3.0.7)\n",
            "Requirement already satisfied: tensorflow in /usr/local/lib/python3.7/dist-packages (2.7.0)\n",
            "Requirement already satisfied: libclang>=9.0.1 in /usr/local/lib/python3.7/dist-packages (from tensorflow) (12.0.0)\n",
            "Requirement already satisfied: h5py>=2.9.0 in /usr/local/lib/python3.7/dist-packages (from tensorflow) (3.1.0)\n",
            "Requirement already satisfied: keras<2.8,>=2.7.0rc0 in /usr/local/lib/python3.7/dist-packages (from tensorflow) (2.7.0)\n",
            "Requirement already satisfied: google-pasta>=0.1.1 in /usr/local/lib/python3.7/dist-packages (from tensorflow) (0.2.0)\n",
            "Requirement already satisfied: opt-einsum>=2.3.2 in /usr/local/lib/python3.7/dist-packages (from tensorflow) (3.3.0)\n",
            "Requirement already satisfied: typing-extensions>=3.6.6 in /usr/local/lib/python3.7/dist-packages (from tensorflow) (3.10.0.2)\n",
            "Requirement already satisfied: grpcio<2.0,>=1.24.3 in /usr/local/lib/python3.7/dist-packages (from tensorflow) (1.43.0)\n",
            "Requirement already satisfied: tensorflow-estimator<2.8,~=2.7.0rc0 in /usr/local/lib/python3.7/dist-packages (from tensorflow) (2.7.0)\n",
            "Requirement already satisfied: keras-preprocessing>=1.1.1 in /usr/local/lib/python3.7/dist-packages (from tensorflow) (1.1.2)\n",
            "Requirement already satisfied: flatbuffers<3.0,>=1.12 in /usr/local/lib/python3.7/dist-packages (from tensorflow) (2.0)\n",
            "Requirement already satisfied: wheel<1.0,>=0.32.0 in /usr/local/lib/python3.7/dist-packages (from tensorflow) (0.37.1)\n",
            "Requirement already satisfied: gast<0.5.0,>=0.2.1 in /usr/local/lib/python3.7/dist-packages (from tensorflow) (0.4.0)\n",
            "Requirement already satisfied: six>=1.12.0 in /usr/local/lib/python3.7/dist-packages (from tensorflow) (1.15.0)\n",
            "Requirement already satisfied: numpy>=1.14.5 in /usr/local/lib/python3.7/dist-packages (from tensorflow) (1.19.5)\n",
            "Requirement already satisfied: tensorboard~=2.6 in /usr/local/lib/python3.7/dist-packages (from tensorflow) (2.7.0)\n",
            "Requirement already satisfied: absl-py>=0.4.0 in /usr/local/lib/python3.7/dist-packages (from tensorflow) (1.0.0)\n",
            "Requirement already satisfied: wrapt>=1.11.0 in /usr/local/lib/python3.7/dist-packages (from tensorflow) (1.13.3)\n",
            "Requirement already satisfied: tensorflow-io-gcs-filesystem>=0.21.0 in /usr/local/lib/python3.7/dist-packages (from tensorflow) (0.23.1)\n",
            "Requirement already satisfied: astunparse>=1.6.0 in /usr/local/lib/python3.7/dist-packages (from tensorflow) (1.6.3)\n",
            "Requirement already satisfied: protobuf>=3.9.2 in /usr/local/lib/python3.7/dist-packages (from tensorflow) (3.17.3)\n",
            "Requirement already satisfied: termcolor>=1.1.0 in /usr/local/lib/python3.7/dist-packages (from tensorflow) (1.1.0)\n",
            "Requirement already satisfied: cached-property in /usr/local/lib/python3.7/dist-packages (from h5py>=2.9.0->tensorflow) (1.5.2)\n",
            "Requirement already satisfied: google-auth<3,>=1.6.3 in /usr/local/lib/python3.7/dist-packages (from tensorboard~=2.6->tensorflow) (1.35.0)\n",
            "Requirement already satisfied: tensorboard-data-server<0.7.0,>=0.6.0 in /usr/local/lib/python3.7/dist-packages (from tensorboard~=2.6->tensorflow) (0.6.1)\n",
            "Requirement already satisfied: google-auth-oauthlib<0.5,>=0.4.1 in /usr/local/lib/python3.7/dist-packages (from tensorboard~=2.6->tensorflow) (0.4.6)\n",
            "Requirement already satisfied: markdown>=2.6.8 in /usr/local/lib/python3.7/dist-packages (from tensorboard~=2.6->tensorflow) (3.3.6)\n",
            "Requirement already satisfied: setuptools>=41.0.0 in /usr/local/lib/python3.7/dist-packages (from tensorboard~=2.6->tensorflow) (57.4.0)\n",
            "Requirement already satisfied: werkzeug>=0.11.15 in /usr/local/lib/python3.7/dist-packages (from tensorboard~=2.6->tensorflow) (1.0.1)\n",
            "Requirement already satisfied: requests<3,>=2.21.0 in /usr/local/lib/python3.7/dist-packages (from tensorboard~=2.6->tensorflow) (2.23.0)\n",
            "Requirement already satisfied: tensorboard-plugin-wit>=1.6.0 in /usr/local/lib/python3.7/dist-packages (from tensorboard~=2.6->tensorflow) (1.8.1)\n",
            "Requirement already satisfied: cachetools<5.0,>=2.0.0 in /usr/local/lib/python3.7/dist-packages (from google-auth<3,>=1.6.3->tensorboard~=2.6->tensorflow) (4.2.4)\n",
            "Requirement already satisfied: pyasn1-modules>=0.2.1 in /usr/local/lib/python3.7/dist-packages (from google-auth<3,>=1.6.3->tensorboard~=2.6->tensorflow) (0.2.8)\n",
            "Requirement already satisfied: rsa<5,>=3.1.4 in /usr/local/lib/python3.7/dist-packages (from google-auth<3,>=1.6.3->tensorboard~=2.6->tensorflow) (4.8)\n",
            "Requirement already satisfied: requests-oauthlib>=0.7.0 in /usr/local/lib/python3.7/dist-packages (from google-auth-oauthlib<0.5,>=0.4.1->tensorboard~=2.6->tensorflow) (1.3.0)\n",
            "Requirement already satisfied: importlib-metadata>=4.4 in /usr/local/lib/python3.7/dist-packages (from markdown>=2.6.8->tensorboard~=2.6->tensorflow) (4.10.1)\n",
            "Requirement already satisfied: zipp>=0.5 in /usr/local/lib/python3.7/dist-packages (from importlib-metadata>=4.4->markdown>=2.6.8->tensorboard~=2.6->tensorflow) (3.7.0)\n",
            "Requirement already satisfied: pyasn1<0.5.0,>=0.4.6 in /usr/local/lib/python3.7/dist-packages (from pyasn1-modules>=0.2.1->google-auth<3,>=1.6.3->tensorboard~=2.6->tensorflow) (0.4.8)\n",
            "Requirement already satisfied: certifi>=2017.4.17 in /usr/local/lib/python3.7/dist-packages (from requests<3,>=2.21.0->tensorboard~=2.6->tensorflow) (2021.10.8)\n",
            "Requirement already satisfied: idna<3,>=2.5 in /usr/local/lib/python3.7/dist-packages (from requests<3,>=2.21.0->tensorboard~=2.6->tensorflow) (2.10)\n",
            "Requirement already satisfied: urllib3!=1.25.0,!=1.25.1,<1.26,>=1.21.1 in /usr/local/lib/python3.7/dist-packages (from requests<3,>=2.21.0->tensorboard~=2.6->tensorflow) (1.24.3)\n",
            "Requirement already satisfied: chardet<4,>=3.0.2 in /usr/local/lib/python3.7/dist-packages (from requests<3,>=2.21.0->tensorboard~=2.6->tensorflow) (3.0.4)\n",
            "Requirement already satisfied: oauthlib>=3.0.0 in /usr/local/lib/python3.7/dist-packages (from requests-oauthlib>=0.7.0->google-auth-oauthlib<0.5,>=0.4.1->tensorboard~=2.6->tensorflow) (3.1.1)\n",
            "Requirement already satisfied: keras in /usr/local/lib/python3.7/dist-packages (2.7.0)\n",
            "Requirement already satisfied: keras-rl2 in /usr/local/lib/python3.7/dist-packages (1.0.5)\n",
            "Requirement already satisfied: tensorflow in /usr/local/lib/python3.7/dist-packages (from keras-rl2) (2.7.0)\n",
            "Requirement already satisfied: wheel<1.0,>=0.32.0 in /usr/local/lib/python3.7/dist-packages (from tensorflow->keras-rl2) (0.37.1)\n",
            "Requirement already satisfied: opt-einsum>=2.3.2 in /usr/local/lib/python3.7/dist-packages (from tensorflow->keras-rl2) (3.3.0)\n",
            "Requirement already satisfied: six>=1.12.0 in /usr/local/lib/python3.7/dist-packages (from tensorflow->keras-rl2) (1.15.0)\n",
            "Requirement already satisfied: typing-extensions>=3.6.6 in /usr/local/lib/python3.7/dist-packages (from tensorflow->keras-rl2) (3.10.0.2)\n",
            "Requirement already satisfied: tensorflow-io-gcs-filesystem>=0.21.0 in /usr/local/lib/python3.7/dist-packages (from tensorflow->keras-rl2) (0.23.1)\n",
            "Requirement already satisfied: numpy>=1.14.5 in /usr/local/lib/python3.7/dist-packages (from tensorflow->keras-rl2) (1.19.5)\n",
            "Requirement already satisfied: h5py>=2.9.0 in /usr/local/lib/python3.7/dist-packages (from tensorflow->keras-rl2) (3.1.0)\n",
            "Requirement already satisfied: tensorboard~=2.6 in /usr/local/lib/python3.7/dist-packages (from tensorflow->keras-rl2) (2.7.0)\n",
            "Requirement already satisfied: gast<0.5.0,>=0.2.1 in /usr/local/lib/python3.7/dist-packages (from tensorflow->keras-rl2) (0.4.0)\n",
            "Requirement already satisfied: termcolor>=1.1.0 in /usr/local/lib/python3.7/dist-packages (from tensorflow->keras-rl2) (1.1.0)\n",
            "Requirement already satisfied: flatbuffers<3.0,>=1.12 in /usr/local/lib/python3.7/dist-packages (from tensorflow->keras-rl2) (2.0)\n",
            "Requirement already satisfied: absl-py>=0.4.0 in /usr/local/lib/python3.7/dist-packages (from tensorflow->keras-rl2) (1.0.0)\n",
            "Requirement already satisfied: keras<2.8,>=2.7.0rc0 in /usr/local/lib/python3.7/dist-packages (from tensorflow->keras-rl2) (2.7.0)\n",
            "Requirement already satisfied: grpcio<2.0,>=1.24.3 in /usr/local/lib/python3.7/dist-packages (from tensorflow->keras-rl2) (1.43.0)\n",
            "Requirement already satisfied: protobuf>=3.9.2 in /usr/local/lib/python3.7/dist-packages (from tensorflow->keras-rl2) (3.17.3)\n",
            "Requirement already satisfied: astunparse>=1.6.0 in /usr/local/lib/python3.7/dist-packages (from tensorflow->keras-rl2) (1.6.3)\n",
            "Requirement already satisfied: libclang>=9.0.1 in /usr/local/lib/python3.7/dist-packages (from tensorflow->keras-rl2) (12.0.0)\n",
            "Requirement already satisfied: tensorflow-estimator<2.8,~=2.7.0rc0 in /usr/local/lib/python3.7/dist-packages (from tensorflow->keras-rl2) (2.7.0)\n",
            "Requirement already satisfied: google-pasta>=0.1.1 in /usr/local/lib/python3.7/dist-packages (from tensorflow->keras-rl2) (0.2.0)\n",
            "Requirement already satisfied: wrapt>=1.11.0 in /usr/local/lib/python3.7/dist-packages (from tensorflow->keras-rl2) (1.13.3)\n",
            "Requirement already satisfied: keras-preprocessing>=1.1.1 in /usr/local/lib/python3.7/dist-packages (from tensorflow->keras-rl2) (1.1.2)\n",
            "Requirement already satisfied: cached-property in /usr/local/lib/python3.7/dist-packages (from h5py>=2.9.0->tensorflow->keras-rl2) (1.5.2)\n",
            "Requirement already satisfied: tensorboard-plugin-wit>=1.6.0 in /usr/local/lib/python3.7/dist-packages (from tensorboard~=2.6->tensorflow->keras-rl2) (1.8.1)\n",
            "Requirement already satisfied: tensorboard-data-server<0.7.0,>=0.6.0 in /usr/local/lib/python3.7/dist-packages (from tensorboard~=2.6->tensorflow->keras-rl2) (0.6.1)\n",
            "Requirement already satisfied: google-auth-oauthlib<0.5,>=0.4.1 in /usr/local/lib/python3.7/dist-packages (from tensorboard~=2.6->tensorflow->keras-rl2) (0.4.6)\n",
            "Requirement already satisfied: markdown>=2.6.8 in /usr/local/lib/python3.7/dist-packages (from tensorboard~=2.6->tensorflow->keras-rl2) (3.3.6)\n",
            "Requirement already satisfied: setuptools>=41.0.0 in /usr/local/lib/python3.7/dist-packages (from tensorboard~=2.6->tensorflow->keras-rl2) (57.4.0)\n",
            "Requirement already satisfied: werkzeug>=0.11.15 in /usr/local/lib/python3.7/dist-packages (from tensorboard~=2.6->tensorflow->keras-rl2) (1.0.1)\n",
            "Requirement already satisfied: google-auth<3,>=1.6.3 in /usr/local/lib/python3.7/dist-packages (from tensorboard~=2.6->tensorflow->keras-rl2) (1.35.0)\n",
            "Requirement already satisfied: requests<3,>=2.21.0 in /usr/local/lib/python3.7/dist-packages (from tensorboard~=2.6->tensorflow->keras-rl2) (2.23.0)\n",
            "Requirement already satisfied: rsa<5,>=3.1.4 in /usr/local/lib/python3.7/dist-packages (from google-auth<3,>=1.6.3->tensorboard~=2.6->tensorflow->keras-rl2) (4.8)\n",
            "Requirement already satisfied: pyasn1-modules>=0.2.1 in /usr/local/lib/python3.7/dist-packages (from google-auth<3,>=1.6.3->tensorboard~=2.6->tensorflow->keras-rl2) (0.2.8)\n",
            "Requirement already satisfied: cachetools<5.0,>=2.0.0 in /usr/local/lib/python3.7/dist-packages (from google-auth<3,>=1.6.3->tensorboard~=2.6->tensorflow->keras-rl2) (4.2.4)\n",
            "Requirement already satisfied: requests-oauthlib>=0.7.0 in /usr/local/lib/python3.7/dist-packages (from google-auth-oauthlib<0.5,>=0.4.1->tensorboard~=2.6->tensorflow->keras-rl2) (1.3.0)\n",
            "Requirement already satisfied: importlib-metadata>=4.4 in /usr/local/lib/python3.7/dist-packages (from markdown>=2.6.8->tensorboard~=2.6->tensorflow->keras-rl2) (4.10.1)\n",
            "Requirement already satisfied: zipp>=0.5 in /usr/local/lib/python3.7/dist-packages (from importlib-metadata>=4.4->markdown>=2.6.8->tensorboard~=2.6->tensorflow->keras-rl2) (3.7.0)\n",
            "Requirement already satisfied: pyasn1<0.5.0,>=0.4.6 in /usr/local/lib/python3.7/dist-packages (from pyasn1-modules>=0.2.1->google-auth<3,>=1.6.3->tensorboard~=2.6->tensorflow->keras-rl2) (0.4.8)\n",
            "Requirement already satisfied: certifi>=2017.4.17 in /usr/local/lib/python3.7/dist-packages (from requests<3,>=2.21.0->tensorboard~=2.6->tensorflow->keras-rl2) (2021.10.8)\n",
            "Requirement already satisfied: chardet<4,>=3.0.2 in /usr/local/lib/python3.7/dist-packages (from requests<3,>=2.21.0->tensorboard~=2.6->tensorflow->keras-rl2) (3.0.4)\n",
            "Requirement already satisfied: idna<3,>=2.5 in /usr/local/lib/python3.7/dist-packages (from requests<3,>=2.21.0->tensorboard~=2.6->tensorflow->keras-rl2) (2.10)\n",
            "Requirement already satisfied: urllib3!=1.25.0,!=1.25.1,<1.26,>=1.21.1 in /usr/local/lib/python3.7/dist-packages (from requests<3,>=2.21.0->tensorboard~=2.6->tensorflow->keras-rl2) (1.24.3)\n",
            "Requirement already satisfied: oauthlib>=3.0.0 in /usr/local/lib/python3.7/dist-packages (from requests-oauthlib>=0.7.0->google-auth-oauthlib<0.5,>=0.4.1->tensorboard~=2.6->tensorflow->keras-rl2) (3.1.1)\n",
            "Requirement already satisfied: gym in /usr/local/lib/python3.7/dist-packages (0.17.3)\n",
            "Requirement already satisfied: pyglet<=1.5.0,>=1.4.0 in /usr/local/lib/python3.7/dist-packages (from gym) (1.5.0)\n",
            "Requirement already satisfied: numpy>=1.10.4 in /usr/local/lib/python3.7/dist-packages (from gym) (1.19.5)\n",
            "Requirement already satisfied: cloudpickle<1.7.0,>=1.2.0 in /usr/local/lib/python3.7/dist-packages (from gym) (1.3.0)\n",
            "Requirement already satisfied: scipy in /usr/local/lib/python3.7/dist-packages (from gym) (1.4.1)\n",
            "Requirement already satisfied: future in /usr/local/lib/python3.7/dist-packages (from pyglet<=1.5.0,>=1.4.0->gym) (0.16.0)\n"
          ]
        }
      ]
    },
    {
      "cell_type": "markdown",
      "source": [
        "**All the necessary imports**"
      ],
      "metadata": {
        "id": "qFtccCv3Q7Cx"
      }
    },
    {
      "cell_type": "code",
      "metadata": {
        "id": "xaCIxIFxelOe"
      },
      "source": [
        "import binarytree\n",
        "from binarytree import get_parent\n",
        "from binarytree import Node\n",
        "from binarytree import build2\n",
        "\n",
        "import gym\n",
        "\n",
        "import numpy as np\n",
        "import random\n",
        "\n",
        "from tensorflow.keras.models import Sequential\n",
        "from tensorflow.keras.layers import Dense, Flatten, Reshape\n",
        "from tensorflow.keras.optimizers import Adam\n",
        "\n",
        "from rl.agents import DQNAgent\n",
        "from rl.policy import BoltzmannQPolicy\n",
        "from rl.memory import SequentialMemory"
      ],
      "execution_count": null,
      "outputs": []
    },
    {
      "cell_type": "markdown",
      "source": [
        "**Constants**"
      ],
      "metadata": {
        "id": "tKAnCdFlarpD"
      }
    },
    {
      "cell_type": "code",
      "metadata": {
        "id": "l5jxTlMhCqam"
      },
      "source": [
        "root = Node(0)                                                                  # we start with unmutated sequence\n",
        "global seq_length                                                               # the length of genetic sequences\n",
        "global num_of_seq                                                               # number of sequences within the tree\n",
        "global tree_size\n",
        "seq_length = 10\n",
        "num_of_seq = 10\n",
        "tree_size = 75\n",
        "\n",
        "zero_tree = [0,\n",
        "            0, 0,\n",
        "            0, 0, 0, 0,\n",
        "            0, 0, 0, 0, 0, 0, 0, 0,\n",
        "            0, 0, 0, 0, None, 0, None, 0, None, 0, None, 0, None, 0, None, 0,\n",
        "            None, 0, None, 0, None, 0, None, 0, None, 0, None, 0, None, 0, None, 0, None, 0, None, 0,\n",
        "            None, 0, None, 0, None, 0, None, 0, None, 0, None, 0, None, 0, None, 0, None, 0, None, 0,\n",
        "            None, 0, None, 0, None, 0, None, 0, None, 0, None, 0, None, 0, None, 0, None, 0, None, 0,\n",
        "            None, 0, None, 0, None, 0, None, 0, None, 0, None, 0, None, 0, None, 0, None, 0, None, 0,\n",
        "            None, 0, None, 0, None, 0, None, 0, None, 0, None, 0, None, 0, None, 0, None, 0, None, 0]"
      ],
      "execution_count": null,
      "outputs": []
    },
    {
      "cell_type": "markdown",
      "source": [
        "**SEQUANCES**"
      ],
      "metadata": {
        "id": "N_8T-6q2aKzJ"
      }
    },
    {
      "cell_type": "code",
      "source": [
        "# Two-dimensional array of the given sequances\n",
        "Initial_Matrix = np.array([[1, 1, 0, 1, 1, 1, 1, 0, 1, 1],\n",
        "                  [1, 1, 0, 0, 0, 1, 1, 0, 0, 0],\n",
        "                  [1, 0, 1, 1, 1, 1, 0, 1, 1, 1],\n",
        "                  [0, 0, 1, 0, 1, 0, 1, 1, 0, 1],\n",
        "                  [1, 0, 1, 1, 0, 0, 1, 1, 0, 1],\n",
        "                  [0, 0, 0, 0, 0, 0, 0 ,0, 0, 1],\n",
        "                  [0, 1, 1, 0, 0, 0, 1, 0, 1, 1],\n",
        "                  [1, 1, 0, 0, 1, 1, 1, 0, 1, 1],\n",
        "                  [0, 0, 1, 1, 1, 1, 1, 0, 0, 1],\n",
        "                  [0, 0, 0, 0, 1, 0, 0, 1, 0, 1]], np.int)"
      ],
      "metadata": {
        "id": "KKL1GtpkaQDS"
      },
      "execution_count": null,
      "outputs": []
    },
    {
      "cell_type": "markdown",
      "source": [
        "**Creating a Custom Enviroment with Gym**"
      ],
      "metadata": {
        "id": "-xPj7ob-a1yq"
      }
    },
    {
      "cell_type": "code",
      "metadata": {
        "id": "bX4Hoiu8ew8n"
      },
      "source": [
        "class Phylogenetic_Tree(gym.Env):\n",
        "\n",
        "  def __init__(self):\n",
        "    self.action_space = gym.spaces.Box(np.array([0, 0]), np.array([tree_size, seq_length+1]), dtype=np.int)\n",
        "    self.observation_space = gym.spaces.Box(low=0, high=1, shape=(2, 10, 10), dtype=np.int)\n",
        "\n",
        "    self.tree = zero_tree\n",
        "    self.counter = 0\n",
        "    root = build2(zero_tree)\n",
        "\n",
        "  def step(self, action):\n",
        "    self.counter += 1\n",
        "\n",
        "    action = int(action)\n",
        "    mutation = action//tree_size\n",
        "    site = action - (mutation*tree_size)\n",
        "\n",
        "    reward = 0                                                                  # encouragement and done-flag of an algorithm\n",
        "    done = False\n",
        "\n",
        "    if zero_tree[site] != None:\n",
        "      self.tree[site] = mutation\n",
        "      root = build2(self.tree)\n",
        "\n",
        "      if action != 0:\n",
        "        reward -= 1                                                             # fines for adding mutations\n",
        "    else:\n",
        "      root = build2(self.tree)\n",
        "\n",
        "    M = (root.height + 1)                                                       # width of branch matrix\n",
        "    N = root.leaf_count                                                         # length of branch matrix\n",
        "\n",
        "    Branch_Matrix = np.zeros(shape=(seq_length, num_of_seq), dtype=np.int)      # creating an empty branch matrix\n",
        "    leaves = root.leaves                                                        # writing leaves of our tree into new array\n",
        "\n",
        "    # creating the branch matrix with sites\n",
        "    for j in range(N):\n",
        "      item = leaves[j]\n",
        "      for i in reversed(range(M-1)):\n",
        "          Branch_Matrix[i][j] = item[0].values[0]                               # writing the branch values into a branch matrix\n",
        "          item = get_parent(root, item)                                         # moving from leaves to parent\n",
        "\n",
        "    # converting array of sites to sequences\n",
        "    for j in range(N):\n",
        "      zero_branch = np.zeros(shape = seq_length, dtype=np.int)\n",
        "      for i in range(M):\n",
        "        if Branch_Matrix[i][j] != 0:                                            # ignoring the non-mutation nodes\n",
        "          zero_branch[Branch_Matrix[i][j]-1] = 1                                # changing sites to nucleotides\n",
        "      for i in range(M):\n",
        "        Branch_Matrix[i][j] = zero_branch[i]\n",
        "\n",
        "    Branch_Matrix.transpose                                                     # branches should be listed from top to bottom\n",
        "\n",
        "    state = np.stack((Branch_Matrix, Initial_Matrix))                           # creating a state vector\n",
        "\n",
        "    for i in range (num_of_seq):\n",
        "      for j in range(seq_length):\n",
        "        if (Branch_Matrix[i][j] == Initial_Matrix[i][j]):\n",
        "          if Branch_Matrix[i][j] == 1:\n",
        "            reward += 0.09\n",
        "          else:\n",
        "            reward += 0.01\n",
        "\n",
        "    if self.counter == 50:                                                      # done-condition\n",
        "      done = True\n",
        "\n",
        "    info = {}\n",
        "\n",
        "    return state, reward, done, info\n",
        "\n",
        "  def render(self, mode):\n",
        "    print(root)                                                                 # outputing current version of tree\n",
        "\n",
        "    return\n",
        "\n",
        "  def reset(self):\n",
        "    root = build2(zero_tree)\n",
        "    state = np.zeros(shape=(2,10,10), dtype=np.int)\n",
        "    self.tree = zero_tree\n",
        "    self.counter = 0\n",
        "\n",
        "    return state"
      ],
      "execution_count": null,
      "outputs": []
    },
    {
      "cell_type": "code",
      "source": [
        "env = Phylogenetic_Tree()\n",
        "states = env.observation_space.shape\n",
        "actions = tree_size*(seq_length+1)"
      ],
      "metadata": {
        "id": "PyFFRaNw-aAe"
      },
      "execution_count": null,
      "outputs": []
    },
    {
      "cell_type": "markdown",
      "source": [
        "**Test the enviroment**"
      ],
      "metadata": {
        "id": "D-ucrUm6onIG"
      }
    },
    {
      "cell_type": "code",
      "source": [
        "episodes = 0\n",
        "for episode in range(1, 1+episodes):\n",
        "  state = env.reset()\n",
        "  score = 0\n",
        "  done = False\n",
        "\n",
        "  while not done:\n",
        "    action = random.randrange(actions)                                          # creating random mutations, where '0' is non-mutation\n",
        "    n_state, reward, done, info = env.step(action)\n",
        "    score += reward\n",
        "  env.render(mode='human')\n",
        "  print('Episode:{} Score:{}'.format(episode, score))"
      ],
      "metadata": {
        "id": "T23xWsLVophj"
      },
      "execution_count": null,
      "outputs": []
    },
    {
      "cell_type": "markdown",
      "source": [
        "**Create a Deep Learning Model with Keras**"
      ],
      "metadata": {
        "id": "gs4G2vnHbafK"
      }
    },
    {
      "cell_type": "code",
      "source": [
        "def build_model(states, actions):\n",
        "  model = Sequential()\n",
        "  model.add(Flatten(input_shape=((1, ) + states)))\n",
        "  model.add(Dense(958, activation='sigmoid'))\n",
        "  model.add(Dense(958, activation='sigmoid'))\n",
        "  model.add(Dense(actions, activation='linear'))\n",
        "  #model.add(Reshape((tree_size, seq_length+1), input_shape=(actions, )))\n",
        "  return model"
      ],
      "metadata": {
        "id": "LBPkYDonsWZp"
      },
      "execution_count": null,
      "outputs": []
    },
    {
      "cell_type": "code",
      "source": [
        "model = build_model(states, actions)"
      ],
      "metadata": {
        "id": "NHuLOh5Jd2qr"
      },
      "execution_count": null,
      "outputs": []
    },
    {
      "cell_type": "markdown",
      "source": [
        "**Build Agent with Keras-RL**"
      ],
      "metadata": {
        "id": "C_-WrcIZXM-U"
      }
    },
    {
      "cell_type": "code",
      "source": [
        "def build_agent(model, actions):\n",
        "  policy = BoltzmannQPolicy()\n",
        "  memory = SequentialMemory(limit=50000, window_length=1)\n",
        "  dqn = DQNAgent(model = model, memory = memory, policy = policy,\n",
        "                 nb_actions = actions, nb_steps_warmup = 10, target_model_update = 1e-2)\n",
        "  return dqn"
      ],
      "metadata": {
        "id": "WtVwx60iXW2K"
      },
      "execution_count": null,
      "outputs": []
    },
    {
      "cell_type": "code",
      "source": [
        "dqn = build_agent(model, actions)\n",
        "dqn.compile(Adam(learning_rate=1e-3), metrics=['mean_squared_error'])\n",
        "dqn.fit(env, nb_steps = 50000, visualize = False, verbose = 1)"
      ],
      "metadata": {
        "id": "JpXkVHVfjI6X",
        "colab": {
          "base_uri": "https://localhost:8080/"
        },
        "outputId": "d6218308-b787-4dae-9325-afce8b8276b9"
      },
      "execution_count": null,
      "outputs": [
        {
          "output_type": "stream",
          "name": "stdout",
          "text": [
            "Training for 50000 steps ...\n",
            "Interval 1 (0 steps performed)\n",
            "    4/10000 [..............................] - ETA: 3:54 - reward: -0.4950 "
          ]
        },
        {
          "output_type": "stream",
          "name": "stderr",
          "text": [
            "/usr/local/lib/python3.7/dist-packages/keras/engine/training_v1.py:2079: UserWarning: `Model.state_updates` will be removed in a future version. This property should not be used in TensorFlow 2.0, as `updates` are applied automatically.\n",
            "  updates=self.state_updates,\n"
          ]
        },
        {
          "output_type": "stream",
          "name": "stdout",
          "text": [
            "    9/10000 [..............................] - ETA: 4:04 - reward: -0.2644"
          ]
        },
        {
          "output_type": "stream",
          "name": "stderr",
          "text": [
            "/usr/local/lib/python3.7/dist-packages/rl/memory.py:37: UserWarning: Not enough entries to sample without replacement. Consider increasing your warm-up phase to avoid oversampling!\n",
            "  warnings.warn('Not enough entries to sample without replacement. Consider increasing your warm-up phase to avoid oversampling!')\n"
          ]
        },
        {
          "output_type": "stream",
          "name": "stdout",
          "text": [
            "10000/10000 [==============================] - 688s 69ms/step - reward: 1.8947\n",
            "200 episodes - episode_reward: 94.733 [28.660, 119.770] - loss: 268.743 - mean_squared_error: 2358.852 - mean_q: 154.740\n",
            "\n",
            "Interval 2 (10000 steps performed)\n",
            "10000/10000 [==============================] - 681s 68ms/step - reward: 1.8095\n",
            "200 episodes - episode_reward: 90.476 [68.000, 129.000] - loss: 1093.049 - mean_squared_error: 9165.238 - mean_q: 345.514\n",
            "\n",
            "Interval 3 (20000 steps performed)\n",
            "10000/10000 [==============================] - 681s 68ms/step - reward: 1.7986\n",
            "200 episodes - episode_reward: 89.929 [65.000, 132.000] - loss: 1823.280 - mean_squared_error: 14467.529 - mean_q: 434.118\n",
            "\n",
            "Interval 4 (30000 steps performed)\n",
            "10000/10000 [==============================] - 692s 69ms/step - reward: 1.7260\n",
            "200 episodes - episode_reward: 86.301 [62.000, 134.000] - loss: 2404.666 - mean_squared_error: 19029.854 - mean_q: 495.281\n",
            "\n",
            "Interval 5 (40000 steps performed)\n",
            "10000/10000 [==============================] - 693s 69ms/step - reward: 1.6826\n",
            "done, took 3435.697 seconds\n"
          ]
        },
        {
          "output_type": "execute_result",
          "data": {
            "text/plain": [
              "<keras.callbacks.History at 0x7f53b7b0f390>"
            ]
          },
          "metadata": {},
          "execution_count": 25
        }
      ]
    },
    {
      "cell_type": "code",
      "source": [
        "scores = dqn.test(env, nb_episodes=10, visualize=False)\n",
        "print(np.mean(scores.history['episode_reward']))"
      ],
      "metadata": {
        "id": "3X8BZIJ-QHv9",
        "colab": {
          "base_uri": "https://localhost:8080/"
        },
        "outputId": "40983abc-1451-4d1a-ee18-75595d9a8e78"
      },
      "execution_count": null,
      "outputs": [
        {
          "output_type": "stream",
          "name": "stdout",
          "text": [
            "Testing for 10 episodes ...\n",
            "Episode 1: reward: 66.100, steps: 50\n",
            "Episode 2: reward: 66.100, steps: 50\n",
            "Episode 3: reward: 66.100, steps: 50\n",
            "Episode 4: reward: 66.100, steps: 50\n",
            "Episode 5: reward: 66.100, steps: 50\n",
            "Episode 6: reward: 66.100, steps: 50\n",
            "Episode 7: reward: 66.100, steps: 50\n",
            "Episode 8: reward: 66.100, steps: 50\n",
            "Episode 9: reward: 66.100, steps: 50\n",
            "Episode 10: reward: 66.100, steps: 50\n",
            "66.1\n"
          ]
        }
      ]
    },
    {
      "cell_type": "code",
      "source": [
        "dqn.test(env, nb_episodes=1, visualize=True)"
      ],
      "metadata": {
        "id": "96V6q17CWR8q",
        "colab": {
          "base_uri": "https://localhost:8080/"
        },
        "outputId": "bc4bf50f-680e-4426-f6b1-c1fcc355b873"
      },
      "execution_count": null,
      "outputs": [
        {
          "output_type": "stream",
          "name": "stdout",
          "text": [
            "Testing for 1 episodes ...\n",
            "\n",
            "0\n",
            "\n",
            "\n",
            "0\n",
            "\n",
            "\n",
            "0\n",
            "\n",
            "\n",
            "0\n",
            "\n",
            "\n",
            "0\n",
            "\n",
            "\n",
            "0\n",
            "\n",
            "\n",
            "0\n",
            "\n",
            "\n",
            "0\n",
            "\n",
            "\n",
            "0\n",
            "\n",
            "\n",
            "0\n",
            "\n",
            "\n",
            "0\n",
            "\n",
            "\n",
            "0\n",
            "\n",
            "\n",
            "0\n",
            "\n",
            "\n",
            "0\n",
            "\n",
            "\n",
            "0\n",
            "\n",
            "\n",
            "0\n",
            "\n",
            "\n",
            "0\n",
            "\n",
            "\n",
            "0\n",
            "\n",
            "\n",
            "0\n",
            "\n",
            "\n",
            "0\n",
            "\n",
            "\n",
            "0\n",
            "\n",
            "\n",
            "0\n",
            "\n",
            "\n",
            "0\n",
            "\n",
            "\n",
            "0\n",
            "\n",
            "\n",
            "0\n",
            "\n",
            "\n",
            "0\n",
            "\n",
            "\n",
            "0\n",
            "\n",
            "\n",
            "0\n",
            "\n",
            "\n",
            "0\n",
            "\n",
            "\n",
            "0\n",
            "\n",
            "\n",
            "0\n",
            "\n",
            "\n",
            "0\n",
            "\n",
            "\n",
            "0\n",
            "\n",
            "\n",
            "0\n",
            "\n",
            "\n",
            "0\n",
            "\n",
            "\n",
            "0\n",
            "\n",
            "\n",
            "0\n",
            "\n",
            "\n",
            "0\n",
            "\n",
            "\n",
            "0\n",
            "\n",
            "\n",
            "0\n",
            "\n",
            "\n",
            "0\n",
            "\n",
            "\n",
            "0\n",
            "\n",
            "\n",
            "0\n",
            "\n",
            "\n",
            "0\n",
            "\n",
            "\n",
            "0\n",
            "\n",
            "\n",
            "0\n",
            "\n",
            "\n",
            "0\n",
            "\n",
            "\n",
            "0\n",
            "\n",
            "\n",
            "0\n",
            "\n",
            "\n",
            "0\n",
            "\n",
            "Episode 1: reward: 66.100, steps: 50\n"
          ]
        },
        {
          "output_type": "execute_result",
          "data": {
            "text/plain": [
              "<keras.callbacks.History at 0x7f53b7746950>"
            ]
          },
          "metadata": {},
          "execution_count": 27
        }
      ]
    },
    {
      "cell_type": "code",
      "source": [
        "dqn.save_weights('dqn_weights.h5f', overwrite=True)"
      ],
      "metadata": {
        "id": "iz_6v6O4QXG_"
      },
      "execution_count": null,
      "outputs": []
    }
  ]
}